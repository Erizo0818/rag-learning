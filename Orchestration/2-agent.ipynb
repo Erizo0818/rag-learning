{
 "cells": [
  {
   "cell_type": "markdown",
   "metadata": {},
   "source": [
    "使用工具"
   ]
  },
  {
   "cell_type": "code",
   "execution_count": 7,
   "metadata": {},
   "outputs": [],
   "source": [
    "import getpass\n",
    "import os\n",
    "\n",
    "os.environ[\"TAVILY_API_KEY\"] = \"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\""
   ]
  },
  {
   "cell_type": "code",
   "execution_count": 8,
   "metadata": {},
   "outputs": [
    {
     "name": "stdout",
     "output_type": "stream",
     "text": [
      "[{'title': 'Weather in San Francisco', 'url': 'https://www.weatherapi.com/', 'content': \"{'location': {'name': 'San Francisco', 'region': 'California', 'country': 'United States of America', 'lat': 37.775, 'lon': -122.4183, 'tz_id': 'America/Los_Angeles', 'localtime_epoch': 1744015917, 'localtime': '2025-04-07 01:51'}, 'current': {'last_updated_epoch': 1744015500, 'last_updated': '2025-04-07 01:45', 'temp_c': 12.8, 'temp_f': 55.0, 'is_day': 0, 'condition': {'text': 'Partly cloudy', 'icon': '//cdn.weatherapi.com/weather/64x64/night/116.png', 'code': 1003}, 'wind_mph': 6.0, 'wind_kph': 9.7, 'wind_degree': 203, 'wind_dir': 'SSW', 'pressure_mb': 1023.0, 'pressure_in': 30.2, 'precip_mm': 0.0, 'precip_in': 0.0, 'humidity': 80, 'cloud': 75, 'feelslike_c': 12.0, 'feelslike_f': 53.6, 'windchill_c': 11.5, 'windchill_f': 52.7, 'heatindex_c': 12.5, 'heatindex_f': 54.6, 'dewpoint_c': 12.0, 'dewpoint_f': 53.6, 'vis_km': 16.0, 'vis_miles': 9.0, 'uv': 0.0, 'gust_mph': 9.8, 'gust_kph': 15.7}}\", 'score': 0.9475428}, {'title': 'Monday, April 7, 2025. San Francisco, CA - Weather Forecast', 'url': 'https://weathershogun.com/weather/usa/ca/san-francisco/480/april/2025-04-07', 'content': \"Monday, April 7, 2025. San Francisco, CA - Weather Forecast\\n☰\\nSan Francisco, CA\\n\\nHome Contact Browse States Privacy Policy Terms and Conditions\\n°F)°C)\\n❮\\nToday Tomorrow Hourly 7 days 30 days April\\n❯\\nSan Francisco, California Weather:\\nBeach Hazards Statement (Potential hazards at beaches, such as dangerous currents, high surf, or unexpected waves.)\\nMonday, April 7, 2025\\nDay 63°\\nNight 52°\\nPrecipitation 40 %\\nWind 12 mph\\nUV Index (0 - 11+) 3\\nTuesday\\n\\nHourly\\nToday\\nTomorrow\\n7 days\\n30 days [...] Weather Forecast History\\nLast Year's Weather on This Day (April 7, 2024)\\nDay\\n57°\\nNight\\n46°\\nPlease note that while we strive for accuracy, the information provided may not always be correct. Use at your own risk.\\n© Copyright by WeatherShogun.com\", 'score': 0.9307171}]\n"
     ]
    }
   ],
   "source": [
    "from langchain_community.tools.tavily_search import TavilySearchResults\n",
    "\n",
    "search = TavilySearchResults(max_results=2)\n",
    "search_results = search.invoke(\"what is the weather in SF\")\n",
    "print(search_results)\n",
    "# If we want, we can create other tools.\n",
    "# Once we have all the tools we want, we can put them in a list that we will reference later.\n",
    "tools = [search]"
   ]
  },
  {
   "cell_type": "code",
   "execution_count": 2,
   "metadata": {},
   "outputs": [
    {
     "data": {
      "text/plain": [
       "True"
      ]
     },
     "execution_count": 2,
     "metadata": {},
     "output_type": "execute_result"
    }
   ],
   "source": [
    "from dotenv import load_dotenv\n",
    "load_dotenv()"
   ]
  },
  {
   "cell_type": "code",
   "execution_count": 10,
   "metadata": {},
   "outputs": [],
   "source": [
    "from langchain.chat_models import init_chat_model\n",
    "\n",
    "model = init_chat_model(\"gpt-4o\", model_provider=\"openai\")"
   ]
  },
  {
   "cell_type": "code",
   "execution_count": 11,
   "metadata": {},
   "outputs": [
    {
     "data": {
      "text/plain": [
       "'Hello! How can I assist you today?'"
      ]
     },
     "execution_count": 11,
     "metadata": {},
     "output_type": "execute_result"
    }
   ],
   "source": [
    "from langchain_core.messages import HumanMessage\n",
    "\n",
    "response = model.invoke([HumanMessage(content=\"hi!\")])\n",
    "response.content"
   ]
  },
  {
   "cell_type": "code",
   "execution_count": 12,
   "metadata": {},
   "outputs": [],
   "source": [
    "model_with_tools = model.bind_tools(tools)"
   ]
  },
  {
   "cell_type": "code",
   "execution_count": 13,
   "metadata": {},
   "outputs": [
    {
     "name": "stdout",
     "output_type": "stream",
     "text": [
      "ContentString: Hello! How can I assist you today?\n",
      "ToolCalls: []\n"
     ]
    }
   ],
   "source": [
    "response = model_with_tools.invoke([HumanMessage(content=\"Hi!\")])\n",
    "\n",
    "print(f\"ContentString: {response.content}\")\n",
    "print(f\"ToolCalls: {response.tool_calls}\")"
   ]
  },
  {
   "cell_type": "code",
   "execution_count": 15,
   "metadata": {},
   "outputs": [
    {
     "name": "stdout",
     "output_type": "stream",
     "text": [
      "ContentString: \n",
      "ToolCalls: [{'name': 'tavily_search_results_json', 'args': {'query': 'San Francisco current weather'}, 'id': 'call_mn7iriSwpj5o63NlPQqp3jKY', 'type': 'tool_call'}]\n"
     ]
    }
   ],
   "source": [
    "response = model_with_tools.invoke([HumanMessage(content=\"What's the weather in SF?\")])\n",
    "\n",
    "print(f\"ContentString: {response.content}\")\n",
    "print(f\"ToolCalls: {response.tool_calls}\")"
   ]
  },
  {
   "cell_type": "code",
   "execution_count": 16,
   "metadata": {},
   "outputs": [],
   "source": [
    "from langgraph.prebuilt import create_react_agent\n",
    "\n",
    "agent_executor = create_react_agent(model, tools)"
   ]
  },
  {
   "cell_type": "code",
   "execution_count": 17,
   "metadata": {},
   "outputs": [
    {
     "data": {
      "text/plain": [
       "[HumanMessage(content='hi!', additional_kwargs={}, response_metadata={}, id='ef84e149-d3e0-4307-86ab-f88794bd0efc'),\n",
       " AIMessage(content='Hello! How can I assist you today?', additional_kwargs={'refusal': None}, response_metadata={'token_usage': {'completion_tokens': 11, 'prompt_tokens': 81, 'total_tokens': 92, 'completion_tokens_details': {'accepted_prediction_tokens': 0, 'audio_tokens': 0, 'reasoning_tokens': 0, 'rejected_prediction_tokens': 0}, 'prompt_tokens_details': {'audio_tokens': 0, 'cached_tokens': 0}}, 'model_name': 'gpt-4o-2024-08-06', 'system_fingerprint': 'fp_6dd05565ef', 'id': 'chatcmpl-BJceUa33l4pg9PhxRJszgu2WfMNFI', 'finish_reason': 'stop', 'logprobs': None}, id='run-11f5f68b-8a24-460e-a374-c5e8cdc2d1db-0', usage_metadata={'input_tokens': 81, 'output_tokens': 11, 'total_tokens': 92, 'input_token_details': {'audio': 0, 'cache_read': 0}, 'output_token_details': {'audio': 0, 'reasoning': 0}})]"
      ]
     },
     "execution_count": 17,
     "metadata": {},
     "output_type": "execute_result"
    }
   ],
   "source": [
    "response = agent_executor.invoke({\"messages\": [HumanMessage(content=\"hi!\")]})\n",
    "\n",
    "response[\"messages\"]"
   ]
  },
  {
   "cell_type": "code",
   "execution_count": 18,
   "metadata": {},
   "outputs": [
    {
     "data": {
      "text/plain": [
       "[HumanMessage(content='whats the weather in sf?', additional_kwargs={}, response_metadata={}, id='dc1f8708-49e6-47b7-8736-00de4a7e462f'),\n",
       " AIMessage(content='', additional_kwargs={'tool_calls': [{'id': 'call_rRasqor21MiSryGDPxndykec', 'function': {'arguments': '{\"query\":\"San Francisco weather today\"}', 'name': 'tavily_search_results_json'}, 'type': 'function'}], 'refusal': None}, response_metadata={'token_usage': {'completion_tokens': 22, 'prompt_tokens': 86, 'total_tokens': 108, 'completion_tokens_details': {'accepted_prediction_tokens': 0, 'audio_tokens': 0, 'reasoning_tokens': 0, 'rejected_prediction_tokens': 0}, 'prompt_tokens_details': {'audio_tokens': 0, 'cached_tokens': 0}}, 'model_name': 'gpt-4o-2024-08-06', 'system_fingerprint': 'fp_898ac29719', 'id': 'chatcmpl-BJcg7rf7WZnC9Q2At26klwsf09wat', 'finish_reason': 'tool_calls', 'logprobs': None}, id='run-7ecfb3ea-c42e-4f22-943e-32876f24dcd7-0', tool_calls=[{'name': 'tavily_search_results_json', 'args': {'query': 'San Francisco weather today'}, 'id': 'call_rRasqor21MiSryGDPxndykec', 'type': 'tool_call'}], usage_metadata={'input_tokens': 86, 'output_tokens': 22, 'total_tokens': 108, 'input_token_details': {'audio': 0, 'cache_read': 0}, 'output_token_details': {'audio': 0, 'reasoning': 0}}),\n",
       " ToolMessage(content='[{\"title\": \"Monday, April 7, 2025. San Francisco, CA - Weather Forecast\", \"url\": \"https://weathershogun.com/weather/usa/ca/san-francisco/480/april/2025-04-07\", \"content\": \"Monday, April 7, 2025. San Francisco, CA - Weather Forecast\\\\n☰\\\\nSan Francisco, CA\\\\n\\\\nHome Contact Browse States Privacy Policy Terms and Conditions\\\\n°F)°C)\\\\n❮\\\\nToday Tomorrow Hourly 7 days 30 days April\\\\n❯\\\\nSan Francisco, California Weather:\\\\nBeach Hazards Statement (Potential hazards at beaches, such as dangerous currents, high surf, or unexpected waves.)\\\\nMonday, April 7, 2025\\\\nDay 63°\\\\nNight 52°\\\\nPrecipitation 40 %\\\\nWind 12 mph\\\\nUV Index (0 - 11+) 3\\\\nTuesday\\\\n\\\\nHourly\\\\nToday\\\\nTomorrow\\\\n7 days\\\\n30 days [...] Weather Forecast History\\\\nLast Year\\'s Weather on This Day (April 7, 2024)\\\\nDay\\\\n57°\\\\nNight\\\\n46°\\\\nPlease note that while we strive for accuracy, the information provided may not always be correct. Use at your own risk.\\\\n© Copyright by WeatherShogun.com\", \"score\": 0.95143646}, {\"title\": \"San Francisco weather in April 2025 | California, USA\", \"url\": \"https://www.weather2travel.com/california/san-francisco/april/\", \"content\": \"San Francisco weather in April 2025. Expect daytime maximum temperatures of 17°C in San Francisco, California in April based on long-term weather averages.\", \"score\": 0.8805613}]', name='tavily_search_results_json', id='69b18bf2-a650-4967-a9ef-c720e547c3ad', tool_call_id='call_rRasqor21MiSryGDPxndykec', artifact={'query': 'San Francisco weather today', 'follow_up_questions': None, 'answer': None, 'images': [], 'results': [{'url': 'https://weathershogun.com/weather/usa/ca/san-francisco/480/april/2025-04-07', 'title': 'Monday, April 7, 2025. San Francisco, CA - Weather Forecast', 'content': \"Monday, April 7, 2025. San Francisco, CA - Weather Forecast\\n☰\\nSan Francisco, CA\\n\\nHome Contact Browse States Privacy Policy Terms and Conditions\\n°F)°C)\\n❮\\nToday Tomorrow Hourly 7 days 30 days April\\n❯\\nSan Francisco, California Weather:\\nBeach Hazards Statement (Potential hazards at beaches, such as dangerous currents, high surf, or unexpected waves.)\\nMonday, April 7, 2025\\nDay 63°\\nNight 52°\\nPrecipitation 40 %\\nWind 12 mph\\nUV Index (0 - 11+) 3\\nTuesday\\n\\nHourly\\nToday\\nTomorrow\\n7 days\\n30 days [...] Weather Forecast History\\nLast Year's Weather on This Day (April 7, 2024)\\nDay\\n57°\\nNight\\n46°\\nPlease note that while we strive for accuracy, the information provided may not always be correct. Use at your own risk.\\n© Copyright by WeatherShogun.com\", 'score': 0.95143646, 'raw_content': None}, {'url': 'https://www.weather2travel.com/california/san-francisco/april/', 'title': 'San Francisco weather in April 2025 | California, USA', 'content': 'San Francisco weather in April 2025. Expect daytime maximum temperatures of 17°C in San Francisco, California in April based on long-term weather averages.', 'score': 0.8805613, 'raw_content': None}], 'response_time': 1.89}),\n",
       " AIMessage(content='Today, April 7, 2025, in San Francisco, California, the weather forecast is as follows:\\n\\n- Daytime temperature: 63°F (approximately 17°C)\\n- Nighttime temperature: 52°F\\n- Precipitation chance: 40%\\n- Wind speed: 12 mph\\n- UV Index: 3\\n\\nThere is also a Beach Hazards Statement, which indicates potential hazards at beaches such as dangerous currents, high surf, or unexpected waves. \\n\\nYou can view more details on [WeatherShogun](https://weathershogun.com/weather/usa/ca/san-francisco/480/april/2025-04-07).', additional_kwargs={'refusal': None}, response_metadata={'token_usage': {'completion_tokens': 141, 'prompt_tokens': 494, 'total_tokens': 635, 'completion_tokens_details': {'accepted_prediction_tokens': 0, 'audio_tokens': 0, 'reasoning_tokens': 0, 'rejected_prediction_tokens': 0}, 'prompt_tokens_details': {'audio_tokens': 0, 'cached_tokens': 0}}, 'model_name': 'gpt-4o-2024-08-06', 'system_fingerprint': 'fp_6dd05565ef', 'id': 'chatcmpl-BJcgAiIDkTsvfRjYfztoy94mLLp4h', 'finish_reason': 'stop', 'logprobs': None}, id='run-db4114d2-724b-4738-a4fb-09f173ac7429-0', usage_metadata={'input_tokens': 494, 'output_tokens': 141, 'total_tokens': 635, 'input_token_details': {'audio': 0, 'cache_read': 0}, 'output_token_details': {'audio': 0, 'reasoning': 0}})]"
      ]
     },
     "execution_count": 18,
     "metadata": {},
     "output_type": "execute_result"
    }
   ],
   "source": [
    "response = agent_executor.invoke(\n",
    "    {\"messages\": [HumanMessage(content=\"whats the weather in sf?\")]}\n",
    ")\n",
    "response[\"messages\"]"
   ]
  }
 ],
 "metadata": {
  "kernelspec": {
   "display_name": ".venv",
   "language": "python",
   "name": "python3"
  },
  "language_info": {
   "codemirror_mode": {
    "name": "ipython",
    "version": 3
   },
   "file_extension": ".py",
   "mimetype": "text/x-python",
   "name": "python",
   "nbconvert_exporter": "python",
   "pygments_lexer": "ipython3",
   "version": "3.12.9"
  }
 },
 "nbformat": 4,
 "nbformat_minor": 2
}
