{
 "cells": [
  {
   "cell_type": "code",
   "execution_count": 1,
   "metadata": {},
   "outputs": [],
   "source": [
    "import getpass\n",
    "import os\n",
    "from langchain_core.messages import HumanMessage, SystemMessage\n",
    "from langchain.chat_models import init_chat_model\n",
    "import dotenv\n",
    "from langchain_core.documents import Document\n",
    "\n",
    "dotenv.load_dotenv()\n",
    "try:\n",
    "    # load environment variables from .env file (requires `python-dotenv`)\n",
    "    from dotenv import load_dotenv\n",
    "\n",
    "    load_dotenv()\n",
    "except ImportError:\n",
    "    pass\n",
    "\n",
    "os.environ[\"LANGSMITH_TRACING\"] = \"true\"\n",
    "if \"LANGSMITH_API_KEY\" not in os.environ:\n",
    "    os.environ[\"LANGSMITH_API_KEY\"] = getpass.getpass(\n",
    "        prompt=\"Enter your LangSmith API key (optional): \"\n",
    "    )\n",
    "if \"LANGSMITH_PROJECT\" not in os.environ:\n",
    "    os.environ[\"LANGSMITH_PROJECT\"] = getpass.getpass(\n",
    "        prompt='Enter your LangSmith Project Name (default = \"default\"): '\n",
    "    )\n",
    "    if not os.environ.get(\"LANGSMITH_PROJECT\"):\n",
    "        os.environ[\"LANGSMITH_PROJECT\"] = \"default\"\n",
    "\n",
    "\n",
    "if not os.environ.get(\"GOOGLE_API_KEY\"):\n",
    "  os.environ[\"GOOGLE_API_KEY\"] = getpass.getpass(\"Enter API key for Google Gemini: \")\n",
    "\n",
    "\n",
    "model = init_chat_model(\"gemini-2.0-flash\", model_provider=\"google_genai\")"
   ]
  },
  {
   "cell_type": "code",
   "execution_count": 20,
   "metadata": {},
   "outputs": [],
   "source": [
    "from langchain_community.document_loaders import PyPDFLoader\n",
    "\n",
    "file_path = \"../example_data/react.pdf\"\n",
    "loader = PyPDFLoader(file_path)\n",
    "\n",
    "docs = loader.load()\n"
   ]
  },
  {
   "cell_type": "code",
   "execution_count": 21,
   "metadata": {},
   "outputs": [
    {
     "data": {
      "text/plain": [
       "147"
      ]
     },
     "execution_count": 21,
     "metadata": {},
     "output_type": "execute_result"
    }
   ],
   "source": [
    "from langchain_text_splitters import RecursiveCharacterTextSplitter\n",
    "\n",
    "text_splitter = RecursiveCharacterTextSplitter(\n",
    "    chunk_size=1000, chunk_overlap=200, add_start_index=True\n",
    ")\n",
    "all_splits = text_splitter.split_documents(docs)\n",
    "len(all_splits)\n"
   ]
  },
  {
   "cell_type": "markdown",
   "metadata": {},
   "source": [
    "加载embedding model"
   ]
  },
  {
   "cell_type": "code",
   "execution_count": 22,
   "metadata": {},
   "outputs": [],
   "source": [
    "from langchain_huggingface import HuggingFaceEmbeddings\n",
    "embeddings = HuggingFaceEmbeddings(model_name=\"sentence-transformers/all-mpnet-base-v2\")"
   ]
  },
  {
   "cell_type": "code",
   "execution_count": 23,
   "metadata": {},
   "outputs": [
    {
     "name": "stdout",
     "output_type": "stream",
     "text": [
      "Generated vectors of length 768\n",
      "\n",
      "[0.02024252898991108, 0.013772303238511086, -0.026855306699872017, 0.029994163662195206, -0.03400131314992905, 0.041266556829214096, -0.016354206949472427, 0.0038157303351908922, 0.030054230242967606, -0.04258701577782631]\n"
     ]
    }
   ],
   "source": [
    "vector_1 = embeddings.embed_query(all_splits[0].page_content)\n",
    "vector_2 = embeddings.embed_query(all_splits[1].page_content)\n",
    "\n",
    "assert len(vector_1) == len(vector_2)\n",
    "print(f\"Generated vectors of length {len(vector_1)}\\n\")\n",
    "print(vector_1[:10])"
   ]
  },
  {
   "cell_type": "code",
   "execution_count": 26,
   "metadata": {},
   "outputs": [],
   "source": [
    "from langchain_chroma import Chroma\n",
    "\n",
    "vector_store = Chroma(\n",
    "    collection_name=\"example_collection\",\n",
    "    embedding_function=embeddings,\n",
    "    persist_directory=\"./chroma_langchain_db\",  # Where to save data locally, remove if not necessary\n",
    ")"
   ]
  },
  {
   "cell_type": "code",
   "execution_count": 27,
   "metadata": {},
   "outputs": [],
   "source": [
    "ids = vector_store.add_documents(documents=all_splits)"
   ]
  },
  {
   "cell_type": "code",
   "execution_count": 28,
   "metadata": {},
   "outputs": [
    {
     "data": {
      "text/plain": [
       "['92f9557f-94fd-423e-be89-fd33fdc64251',\n",
       " '2c307a3e-d3b0-4c5e-a254-ccab95ce939f',\n",
       " '2424dd73-17a0-4bc8-b7d5-c1fa77673263',\n",
       " 'cff2561f-baaa-4cc4-be49-008ff3b1303c',\n",
       " 'e4bc1c46-25d8-47a0-b6fe-fcea6ed19295',\n",
       " 'ecb3f569-f0de-4f94-ab84-76a5c06139d4',\n",
       " 'ee6d4b97-e58f-4666-9984-13329998e73d',\n",
       " '5e1996b6-9ca5-4094-ad7f-32d2c4561bb2',\n",
       " 'ba4fd748-04f3-4c1e-b2c9-9e2b93ab6a78',\n",
       " '0537c97d-2b45-4dae-8e19-25ee9a327115',\n",
       " '247684da-fe8c-4684-b60c-4c4e9013be3e',\n",
       " '1284f54b-254f-41db-b65f-003f48cc783e',\n",
       " 'b9c89ee2-8c66-464c-95f3-6628640ba823',\n",
       " '897df705-3f4c-42df-956c-745b5d1d300c',\n",
       " '16da5eb1-bc17-45d5-99ce-bdca803cf49e',\n",
       " 'cf491433-0342-4229-8c04-171cf8220652',\n",
       " 'bf14678c-4cd9-4fad-8317-fe3f353a58f8',\n",
       " '835750ba-4655-4154-9cb1-37b01e8516a6',\n",
       " '3595ed0c-6800-4f56-afd0-de32fac7d7c9',\n",
       " '013eb13b-77cc-437e-8e6b-f053efd8d3c1',\n",
       " 'a8842595-cf05-4d18-9911-120d20c81293',\n",
       " '6a317f3a-182e-4987-91c0-dbfaabf4d4d9',\n",
       " '668d9b7e-bd71-4e9e-99cd-4abc5a20b1d9',\n",
       " '7a3a409a-3fbc-45ec-bfe8-028f841332c8',\n",
       " 'fe092ee5-9386-4fd5-8f59-f10bcb7a58e1',\n",
       " 'ebd67f1d-5a59-4ff7-b625-48d67ff994a1',\n",
       " '40ade898-090f-4961-8988-64036fdb7932',\n",
       " '1d979d25-4154-45a5-ab8a-a00f9bbb4a4a',\n",
       " 'a8cf972d-4f4e-4100-8c60-ce25a11d127d',\n",
       " '114892a9-e1da-4e22-9002-fe4c57468676',\n",
       " '1a9b9c3f-9bab-4080-aea7-bb2120088181',\n",
       " '55a2b4ed-6e44-49d1-b243-7ccf836aebed',\n",
       " '9344bec7-1aac-4fb1-b6cf-e5a76b371993',\n",
       " '5c2d5ca1-38cd-4520-a5dd-75a8abf5c7e5',\n",
       " 'a3bcc604-36f1-4bd1-898e-8a6c37cf1ad7',\n",
       " 'd430a49a-994d-4aa8-bfce-f4b87d66c133',\n",
       " 'e8d97c70-c682-445b-825d-83c9735fa4d2',\n",
       " '0dcb2fd7-d02d-4f6a-997a-bda0cb7ab044',\n",
       " '01c3d345-4153-4da4-9819-0781787a77e5',\n",
       " 'fd543db6-137a-4e32-8b36-a9171dd74b39',\n",
       " 'ff2096ba-dd6a-45b1-98ac-e373d675436f',\n",
       " '09ac1b58-1483-4871-ae5e-216a2cd6a54a',\n",
       " 'f980acd5-74e7-429c-8ed0-1c65b8831c20',\n",
       " 'f9e5e3cc-de3d-4844-afd8-3873944625c4',\n",
       " '5c7700ab-10a2-4df3-b43d-fd13f8616831',\n",
       " 'd7b94950-d544-40c8-b673-16d4f607e09a',\n",
       " '9591af1c-f385-48f0-843d-0bdf9c45602d',\n",
       " 'baa6c014-d742-409f-9a2b-682e405d454a',\n",
       " '6a1df3ea-dfdd-4328-a93d-5e7ad185e61b',\n",
       " '908790c6-407c-41af-95a4-072a78a4789a',\n",
       " 'c44969ec-9dc3-48e2-9a8c-3bffd444ab49',\n",
       " '90fd18cb-9d8b-4af0-9a3c-d30fb696433d',\n",
       " '58e57899-7fc3-486c-88aa-43902798cdf9',\n",
       " '3f86ac2b-2c9d-4fbd-93bf-e46671e16c74',\n",
       " '83c972ca-93d1-498d-bc6c-2b4e652a9f92',\n",
       " 'c5491b9b-5903-4d7b-987b-197b4d1a3fd6',\n",
       " 'b6a654c2-194c-4b68-bfd3-4237069f1f4d',\n",
       " '8129e006-0750-46ac-b975-22ce6b098ba4',\n",
       " '2995027b-b4b1-4c1b-bcfa-20ecdc720c71',\n",
       " 'f4325963-482a-4629-b6af-410b035df4a4',\n",
       " 'c24389bf-bcf2-4d7f-8dc5-c87763b7b055',\n",
       " 'c90af3aa-f690-42b6-a187-b80cfaa18b06',\n",
       " '5f78a02e-7c89-4340-8d12-6d5183fc76c0',\n",
       " '437ed0d2-8308-4d31-917b-e7ac288d400c',\n",
       " 'bc3dc4e6-141a-462d-88d1-342107c03ecc',\n",
       " '7d7defae-680b-4835-a612-96f76763c3fb',\n",
       " 'dc6caedf-e414-43dd-b45a-56dc780a23a0',\n",
       " '3c36ee3d-ad7e-402a-b146-a31d07b3d041',\n",
       " '44706ebb-d9c6-4326-9bd6-9de0728ec6dc',\n",
       " 'dc102385-735c-4d38-a17c-d82bc5ed602e',\n",
       " '2941177a-6859-444a-9941-62a31086cc69',\n",
       " '119adee6-4b04-4254-b07e-95758e756f2e',\n",
       " '5e7c71d4-5659-484b-aa3d-14c4ebeaa207',\n",
       " '80bb4909-300a-4302-9c6d-92dc18ff2e5f',\n",
       " '8437d0ec-1097-4bef-9823-49e6fa807d57',\n",
       " '8633a8be-fa84-48d9-8cf4-1fbe7e7d2aba',\n",
       " 'f0d3270f-959b-45c5-9d68-ed473f10a02c',\n",
       " 'd831b962-c749-4424-bf8b-3716ae29152e',\n",
       " '87567c79-e321-46c1-873c-75c6745d0bee',\n",
       " '7ccaf353-2d3b-46d6-af59-d90df22ad9f5',\n",
       " '0741fa0d-877c-4689-8673-bf96d85854b0',\n",
       " '8053a639-d0f0-4875-a9c7-5528fb45b002',\n",
       " 'e5ab5d4c-4208-42c7-bbbf-833f88480911',\n",
       " '764a883a-1d61-4b50-a474-d13774e0e8dc',\n",
       " '148d9f73-fc47-40e9-8099-63348056f0b0',\n",
       " '943c534e-f1fc-4894-b570-45b20885ccdb',\n",
       " '39b165a2-acea-4619-8b9b-31914f0d7de7',\n",
       " '4434c0b3-3793-477e-a9df-b4f5dbf2ad30',\n",
       " '94c85a40-b11b-46a4-9990-6fd52f2ae76a',\n",
       " 'e8714a07-47c0-4d06-bd82-7c1d1bda4e7c',\n",
       " '1462b138-5119-4448-a975-d8125e09a3cc',\n",
       " 'd6729e43-0e5d-4c24-ad0e-74c15872e9ec',\n",
       " '50950b04-1311-4dc4-8029-5451f63705a0',\n",
       " 'b7935e01-3984-488c-bb22-f1e77238d235',\n",
       " '93271e33-57ad-46dd-82c6-08a0763573b5',\n",
       " 'bc39054c-b7b5-4263-bac7-99b05bec2629',\n",
       " 'b163590b-91c1-4e54-8083-5a86395007e8',\n",
       " '8ce0d8f8-9b98-4dda-8c21-e006363e0c80',\n",
       " '2da3e50c-7389-4e93-8b40-cc55536b75da',\n",
       " 'e8e0d8c4-2505-4386-b252-e93945a58929',\n",
       " '4d28ad70-3c6e-4ffa-ac8e-9d3a1cc21194',\n",
       " 'e2917507-7951-480f-a1ab-85e6b4fbcf42',\n",
       " '37817151-5ac8-4b8e-94c0-0a7abc4f93dd',\n",
       " '0fa8a1bc-63a8-4b3f-9c92-456c61833263',\n",
       " '5f0e8bcc-4259-498d-b501-ac34b5051fc6',\n",
       " '9d9ae523-af61-491a-bbd7-76c3b080cfe4',\n",
       " '53a03235-46ab-4fda-aee5-3140edfab73a',\n",
       " 'ce1d6ec6-9a05-41cf-a698-84fb2dac28ef',\n",
       " '5260efa0-bde5-4d7c-8408-21b34a3c9b03',\n",
       " '65772208-063d-4fdf-a0e6-4209694f1cb7',\n",
       " '627bf478-3e33-4861-bd58-1da268b0115e',\n",
       " '54499779-398f-4b25-a140-9d91abbc2be5',\n",
       " 'b802f35d-d70b-4229-9200-2e6e8a3036b8',\n",
       " '1471785e-f568-4eaf-a05b-c30c1677aaa9',\n",
       " 'df806e04-0a95-424a-bfc7-f93310839736',\n",
       " '054c7160-a31f-4cc3-965c-98606af04f8b',\n",
       " 'd09021a0-6a8c-4579-a8f1-d7ef66137ae0',\n",
       " '43442ac0-4769-486a-88cf-ceeae1d5abd3',\n",
       " '0bfdde4b-3d1e-4fb0-9b9e-217523725869',\n",
       " 'a7f6801c-6bb4-4c3c-96b3-32ea74108b70',\n",
       " '106f859e-bbf0-494a-bbb9-04a603d091b2',\n",
       " '15e7c2db-5d21-416b-aa1a-2e05db0d9e0c',\n",
       " '63ebb01e-8870-4c09-a399-baa88439da72',\n",
       " '3e1c8901-9950-4142-8785-4285753acaf0',\n",
       " 'dead159d-ba2a-4fef-9b02-41bd79ab5278',\n",
       " 'eb9f93a3-2781-4ede-a96c-a8edfb0c8071',\n",
       " '41e3eb04-4712-4754-92cc-bbac481e825f',\n",
       " 'e8bc3bd7-548b-4f30-9811-69d69496136e',\n",
       " '285f96d0-9a99-4e9c-9c20-9652c2b0cd3e',\n",
       " '71699416-2c19-4aba-a086-deac9ad6a7a2',\n",
       " '65e4283d-705e-4d8c-b2b3-b7a4e6be86a3',\n",
       " 'a175c4f7-251b-42b2-8350-e17b9a674d14',\n",
       " 'f254ef46-fac5-4799-8261-791a34af5414',\n",
       " '57190086-1a9c-4d6d-a550-6cdf289e9b85',\n",
       " 'b80c2ba4-3c7e-4580-bb41-67bcc618ccf3',\n",
       " 'a473898b-5333-44ad-b283-6874d11a52ee',\n",
       " '76233b4d-b64f-472a-937c-55621fe22ef3',\n",
       " 'a1ae6d48-09e8-4a01-9544-9f44aaf1e390',\n",
       " 'a0b06d88-52f8-4a8c-86f6-a538f9526f4c',\n",
       " '83ae5181-2af1-432a-885d-1f7d84ede91c',\n",
       " 'e0a66703-df5d-441b-bab5-bce9a89af6d5',\n",
       " '69c81f5d-8269-455c-ab35-4c4db8505d7c',\n",
       " '60451ec4-7eba-4198-9ec1-26cad813d8c2',\n",
       " '00d03fe6-78cb-4fca-b01b-17908592c4fc',\n",
       " 'e8b241b9-d376-4623-b4ea-8be7c400f70d',\n",
       " '94e349ea-436b-4d7d-83cf-d168667bf4e1',\n",
       " '8f768d12-7dce-42e4-b1a4-c93cffddf726']"
      ]
     },
     "execution_count": 28,
     "metadata": {},
     "output_type": "execute_result"
    }
   ],
   "source": [
    "ids"
   ]
  },
  {
   "cell_type": "code",
   "execution_count": 29,
   "metadata": {},
   "outputs": [
    {
     "name": "stdout",
     "output_type": "stream",
     "text": [
      "page_content='action (Act 4) to ﬁnish the QA task as it requires complex reasoning over the trajectory context\n",
      "(Question, Act 1-3, Obs 1-3). Similarly, the agent shown in Figure 1(2a) fails to comprehend from the\n",
      "context that sinkbasin 1 does not contain peppershaker 1, thus keep producing hallucinating actions.\n",
      "The idea of ReAct is simple: we augment the agent’s action space to ˆA= A∪L, where Lis the\n",
      "space of language. An action ˆat ∈L in the language space, which we will refer to as a thought or a\n",
      "reasoning trace, does not affect the external environment, thus leading to no observation feedback.\n",
      "Instead, a thought ˆat aims to compose useful information by reasoning over the current context ct,\n",
      "and update the context ct+1 = (ct,ˆat) to support future reasoning or acting. As shown in Figure 1,\n",
      "there could be various types of useful thoughts, e.g. decomposing task goals and create action plans\n",
      "(2b, Act 1; 1d, Thought 1), injecting commonsense knowledge relevant to task solving (2b, Act 1),' metadata={'author': '', 'creationdate': '2023-03-13T00:09:11+00:00', 'creator': 'LaTeX with hyperref', 'keywords': '', 'moddate': '2023-03-13T00:09:11+00:00', 'page': 2, 'page_label': '3', 'producer': 'pdfTeX-1.40.21', 'ptex.fullbanner': 'This is pdfTeX, Version 3.14159265-2.6-1.40.21 (TeX Live 2020) kpathsea version 6.3.2', 'source': '../example_data/react.pdf', 'start_index': 3024, 'subject': '', 'title': '', 'total_pages': 33, 'trapped': '/False'}\n"
     ]
    }
   ],
   "source": [
    "results = vector_store.similarity_search(\n",
    "    \"what is react?\"\n",
    ")\n",
    "\n",
    "print(results[0])"
   ]
  },
  {
   "cell_type": "code",
   "execution_count": 32,
   "metadata": {},
   "outputs": [
    {
     "name": "stdout",
     "output_type": "stream",
     "text": [
      "page_content='Published as a conference paper at ICLR 2023\n",
      "appear sparsely in the most relevant positions of a trajectory, so we let the language model decide the\n",
      "asynchronous occurrence of thoughts and actions for itself.\n",
      "Since decision making and reasoning capabilities are integrated into a large language model, ReAct\n",
      "enjoys several unique features: A) Intuitive and easy to design : Designing ReAct prompts is\n",
      "straightforward as human annotators just type down their thoughts in language on top of their actions\n",
      "taken. No ad-hoc format choice, thought design, or example selection is used in this paper. We detail\n",
      "prompt design for each task in Sections 3 and 4. B) General and ﬂexible: Due to the ﬂexible thought\n",
      "space and thought-action occurrence format, ReAct works for diverse tasks with distinct action\n",
      "spaces and reasoning needs, including but not limited to QA, fact veriﬁcation, text game, and web\n",
      "navigation. C) Performant and robust: ReAct shows strong generalization to new task instances' metadata={'author': '', 'creationdate': '2023-03-13T00:09:11+00:00', 'creator': 'LaTeX with hyperref', 'keywords': '', 'moddate': '2023-03-13T00:09:11+00:00', 'page': 3, 'page_label': '4', 'producer': 'pdfTeX-1.40.21', 'ptex.fullbanner': 'This is pdfTeX, Version 3.14159265-2.6-1.40.21 (TeX Live 2020) kpathsea version 6.3.2', 'source': '../example_data/react.pdf', 'start_index': 0, 'subject': '', 'title': '', 'total_pages': 33, 'trapped': '/False'}\n"
     ]
    }
   ],
   "source": [
    "results = await vector_store.asimilarity_search(\"When is  react?\")\n",
    "print(results[1])\n"
   ]
  },
  {
   "cell_type": "code",
   "execution_count": 33,
   "metadata": {},
   "outputs": [
    {
     "name": "stdout",
     "output_type": "stream",
     "text": [
      "spaces and reasoning needs, including but not limited to QA, fact veriﬁcation, text game, and web\n",
      "navigation. C) Performant and robust: ReAct shows strong generalization to new task instances\n",
      "while learning solely from one to six in-context examples, consistently outperforming baselines with\n",
      "only reasoning or acting across different domains. We also show in Section 3 additional beneﬁts\n",
      "when ﬁnetuning is enabled, and in Section 4 how ReAct performance is robust to prompt selections.\n",
      "D) Human aligned and controllable: ReAct promises an interpretable sequential decision making\n",
      "and reasoning process where humans can easily inspect reasoning and factual correctness. Moreover,\n",
      "humans can also control or correct the agent behavior on the go by thought editing, as shown in\n",
      "Figure 5 in Section 4.\n",
      "3 K NOWLEDGE -INTENSIVE REASONING TASKS\n",
      "We begin with knowledge-intensive reasoning tasks like multi-hop question answering and fact\n",
      "1.1998827457427979\n"
     ]
    }
   ],
   "source": [
    "results = await vector_store.asimilarity_search_with_score(\"When is react?\")\n",
    "doc, score = results[0]\n",
    "print(doc.page_content)\n",
    "print(score)\n"
   ]
  },
  {
   "cell_type": "code",
   "execution_count": 34,
   "metadata": {},
   "outputs": [
    {
     "name": "stdout",
     "output_type": "stream",
     "text": [
      "page_content='2024年11月\n",
      "\t\n",
      "\t\n",
      "-\n",
      "\t\n",
      "2024年12月\n",
      "项目实现了一个基于U-Net的轻量级人脸解析系统，通过多尺度特征提取和类别平衡策略，实现人脸图像的精确语义分割\n",
      "基于U-Net架构设计轻量级变体，通过优化网络结构将模型参数量控制在1.8M以内。设计双分支注意力模块，空间分支采用自注意力机制\n",
      "捕捉长程依赖关系，通道分支使用SE模块动态调整特征通道权重\n",
      "设计多尺度特征聚合模块，采用金字塔池化结构和ASPP模块提取多尺度上下文信息。通过不同膨胀率的空洞卷积扩大感受野，同时保持特\n",
      "征分辨率。设计特征重标定模块自适应调整各尺度特征权重，显著提升对不同尺度目标的分割能力\n",
      "设计多层次的损失函数优化策略：针对类别不平衡问题，结合Focal\tLoss和差异化权重机制；引入边界感知损失，通过计算预测掩码与真\n",
      "实掩码的边界距离优化分割边界；设计特征一致性损失，增强不同尺度特征的语义一致性\n",
      "校园经历\t\t\t\t\n",
      "校级五星社团挑战网负责人\n",
      "2021年03月\n",
      "\t\n",
      "\t\n",
      "-\n",
      "\t\n",
      "2024年03月\n",
      "参与运营西安交通大学官方\tBilibili\t账号，运营期间涨粉\t4w+；参与制作西安\tvivo\tS10\t宣传片\n",
      "专业技能\t\t\t\t\n",
      "编程能力：\n",
      "\t\n",
      "熟练使用\tPython\t和\tPyTorch\t框架；了解\tLangChain\t框架，FastAPI框架；熟悉\tMySQL\n",
      "语言：\n",
      "\t\n",
      "英语（CET-6，雅思6.5）\n",
      "视频制作：\n",
      "\t\n",
      "熟悉PR、达芬奇等软件使用，熟悉相机、无人机等设备使用\n",
      "刘玉安\n",
      "电话:\t18757597096\n",
      "\t\n",
      "丨\n",
      "邮箱:\t1411929919@qq.com\n",
      "求职意向:\t大模型，Agent，软件开发' metadata={'creationdate': 'D:20250306085333', 'creator': '', 'page': 0, 'page_label': '1', 'producer': 'Qt 5.5.1', 'source': '../example_data/data_example.pdf', 'start_index': 788, 'title': '', 'total_pages': 1}\n"
     ]
    }
   ],
   "source": [
    "embedding = embeddings.embed_query(\"How were Nike's margins impacted in 2023?\")\n",
    "\n",
    "results = vector_store.similarity_search_by_vector(embedding)\n",
    "print(results[0])\n",
    "\n"
   ]
  },
  {
   "cell_type": "code",
   "execution_count": 35,
   "metadata": {},
   "outputs": [
    {
     "name": "stderr",
     "output_type": "stream",
     "text": [
      "huggingface/tokenizers: The current process just got forked, after parallelism has already been used. Disabling parallelism to avoid deadlocks...\n",
      "To disable this warning, you can either:\n",
      "\t- Avoid using `tokenizers` before the fork if possible\n",
      "\t- Explicitly set the environment variable huggingface/tokenizers: The current process just got forked, after parallelism has already been used. Disabling parallelism to avoid deadlocks...\n",
      "TOKENIZERS_PARALLELISMTo disable this warning, you can either:\n",
      "=(true | false)\n",
      "\t- Avoid using `tokenizers` before the fork if possible\n",
      "\t- Explicitly set the environment variable TOKENIZERS_PARALLELISM=(true | false)\n"
     ]
    },
    {
     "data": {
      "text/plain": [
       "[[Document(id='65772208-063d-4fdf-a0e6-4209694f1cb7', metadata={'author': '', 'creationdate': '2023-03-13T00:09:11+00:00', 'creator': 'LaTeX with hyperref', 'keywords': '', 'moddate': '2023-03-13T00:09:11+00:00', 'page': 21, 'page_label': '22', 'producer': 'pdfTeX-1.40.21', 'ptex.fullbanner': 'This is pdfTeX, Version 3.14159265-2.6-1.40.21 (TeX Live 2020) kpathsea version 6.3.2', 'source': '../example_data/react.pdf', 'start_index': 1628, 'subject': '', 'title': '', 'total_pages': 33, 'trapped': '/False'}, page_content='Action: click[Buy Now]\\nAction: search\\n[\\n3 ounce bright citrus deodorant sensitive skin\\nObservation:[\\nBack to Search\\n]\\nPage 1 (Total results: 50)[\\nNext\\n]\\n[\\nB078GWRC1J\\n]\\nBright Citrus Deodorant by Earth Mama | Natural and Safe for\\nSensitive Skin, Pregnancy and Breastfeeding, Contains Organic\\nCalendula 3-Ounce\\n$10.99[\\nB078GTKVXY\\n]\\nGinger Fresh Deodorant by Earth Mama | Natural and Safe for\\nSensitive Skin, Pregnancy and Breastfeeding, Contains Organic\\nCalendula 3-Ounce\\n$10.99[\\nB08KBVJ4XN\\n]\\nBarrel and Oak - Aluminum-Free Deodorant, Deodorant for Men\\n, Essential Oil-Based Scent, 24-Hour Odor Protection, Cedar\\n& Patchouli Blend, Gentle on Sensitive Skin (Mountain Sage,\\n2.7 oz, 2-Pack)\\n$15.95\\nAction: think[B078GWRC1J and B078GTKVXY are bright citrus\\ndeodorant less then 50 dollars. I can check B078GWRC1J ﬁrst.\\nObservation: OK.\\nAction: click\\n[\\nB078GWRC1J\\n]\\nObservation:[\\nBack to Search\\n]\\n[\\nPrev\\n]\\nscent [assorted scents][bright citrus][calming lavender][ginger\\n[fresh] simply non-scents]')],\n",
       " [Document(id='bc39054c-b7b5-4263-bac7-99b05bec2629', metadata={'author': '', 'creationdate': '2023-03-13T00:09:11+00:00', 'creator': 'LaTeX with hyperref', 'keywords': '', 'moddate': '2023-03-13T00:09:11+00:00', 'page': 17, 'page_label': '18', 'producer': 'pdfTeX-1.40.21', 'ptex.fullbanner': 'This is pdfTeX, Version 3.14159265-2.6-1.40.21 (TeX Live 2020) kpathsea version 6.3.2', 'source': '../example_data/react.pdf', 'start_index': 3216, 'subject': '', 'title': '', 'total_pages': 33, 'trapped': '/False'}, page_content='So profession Nicholas Ray and Elia Kazan have in common is director,\\nscreenwriter, and actor.\\nAction 3 Finish[director, screenwriter, actor]\\nQuestion Which magazine was started first Arthur’s Magazine or First for Women?\\nThought 1 I need to search Arthur’s Magazine and First for Women, and find which was\\nstarted first.\\nAction 1 Search[Arthur’s Magazine]\\nObservation 1 Arthur’s Magazine (1844-1846) was an American literary periodical published\\nin Philadelphia in the 19th century.\\nThought 2 Arthur’s Magazine was started in 1844. I need to search First for Women\\nnext.\\nAction 2 Search[First for Women]\\nObservation 2 First for Women is a woman’s magazine published by Bauer Media Group in the\\nUSA.[1] The magazine was started in 1989.\\nThought 3 First for Women was started in 1989. 1844 (Arthur’s Magazine) < 1989 (First\\nfor Women), so Arthur’s Magazine was started first.\\nAction 3 Finish[Arthur’s Magazine]\\nQuestion Were Pavel Urysohn and Leonid Levin known for the same type of work?')]]"
      ]
     },
     "execution_count": 35,
     "metadata": {},
     "output_type": "execute_result"
    }
   ],
   "source": [
    "from typing import List\n",
    "\n",
    "from langchain_core.documents import Document\n",
    "from langchain_core.runnables import chain\n",
    "\n",
    "\n",
    "@chain\n",
    "def retriever(query: str) -> List[Document]:\n",
    "    return vector_store.similarity_search(query, k=1)\n",
    "\n",
    "\n",
    "retriever.batch(\n",
    "    [\n",
    "        \"How many distribution centers does Nike have in the US?\",\n",
    "        \"When was Nike incorporated?\",\n",
    "    ],\n",
    ")"
   ]
  }
 ],
 "metadata": {
  "kernelspec": {
   "display_name": ".venv",
   "language": "python",
   "name": "python3"
  },
  "language_info": {
   "codemirror_mode": {
    "name": "ipython",
    "version": 3
   },
   "file_extension": ".py",
   "mimetype": "text/x-python",
   "name": "python",
   "nbconvert_exporter": "python",
   "pygments_lexer": "ipython3",
   "version": "3.12.9"
  }
 },
 "nbformat": 4,
 "nbformat_minor": 2
}
